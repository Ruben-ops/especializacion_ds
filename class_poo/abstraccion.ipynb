{
 "cells": [
  {
   "cell_type": "markdown",
   "metadata": {},
   "source": [
    "# Abstracción en Programación Orientada a Objetos\n",
    "\n",
    "La abstracción es un concepto fundamental en la Programación Orientada a Objetos (POO) que permite simplificar sistemas complejos al modelar clases apropiadas para el problema en cuestión, centrándose en los detalles importantes y ocultando la complejidad innecesaria.\n",
    "\n",
    "## Explicación\n",
    "La abstracción permite:\n",
    "\n",
    "1. **Simplificar la realidad**: Representar objetos del mundo real de manera simplificada en el código.\n",
    "\n",
    "2. **Ocultar detalles de implementación**: Exponer sólo la interfaz necesaria y ocultar los detalles internos de la implementación.\n",
    "\n",
    "3. **Mejorar la mantenibilidad**: Facilitar cambios en la implementación sin afectar el código que usa la abstracción.\n",
    "\n",
    "4. **Promover la reutilización**: Crear componentes más genéricos y reutilizables."
   ]
  },
  {
   "cell_type": "markdown",
   "metadata": {},
   "source": [
    "## Ejemplos prácticos\n",
    "\n",
    "### Ejemplo 1: Simulación de vuelo\n",
    "\n",
    "En este ejemplo, la clase `AirPlane` es una abstracción de un avión real. Observemos cómo se aplica la abstracción:\n",
    "\n",
    "1. **Atributos relevantes**: Se han seleccionado solo los atributos más importantes para la simulación (velocidad, altitud, ángulos de rotación).\n",
    "\n",
    "2. **Método simplificado**: El método `fly()` es una representación simplificada del vuelo real.\n",
    "\n",
    "3. **Representación en cadena**: El método `__str__()` proporciona una representación concisa del estado del avión."
   ]
  },
  {
   "cell_type": "code",
   "execution_count": 5,
   "metadata": {},
   "outputs": [
    {
     "ename": "",
     "evalue": "",
     "output_type": "error",
     "traceback": [
      "\u001b[1;31mFailed to connect to remote Jupyter Server.\n",
      "\u001b[1;31mCheck that the Jupyter Server URL can be reached from a browser.\n",
      "\u001b[1;31mhttps://jupyter-server-wrgvx9q7xv69hwvj-8888.app.github.dev/. Click <a href='https://aka.ms/vscjremoteweb'>here</a> for more information."
     ]
    }
   ],
   "source": [
    "class AirPlane:\n",
    "    def __init__(self, speed: int, altitude: int, roll_angle: int, pitch_angle: int, yaw_angle: int) -> None:\n",
    "        self.speed: int = speed\n",
    "        self.altitude: int = altitude\n",
    "        self.roll_angle: int = roll_angle\n",
    "        self.pitch_angle: int = pitch_angle\n",
    "        self.yaw_angle: int = yaw_angle\n",
    "\n",
    "    def fly(self) -> None:\n",
    "        print(f\"Airplane is flying at {self.speed} km/h\")\n",
    "\n",
    "    def __str__(self) -> str:\n",
    "        return f\"{self.speed} km/h, {self.altitude} m, {self.roll_angle}°, {self.pitch_angle}°, {self.yaw_angle}°\""
   ]
  },
  {
   "cell_type": "code",
   "execution_count": 6,
   "metadata": {},
   "outputs": [
    {
     "ename": "",
     "evalue": "",
     "output_type": "error",
     "traceback": [
      "\u001b[1;31mFailed to connect to remote Jupyter Server.\n",
      "\u001b[1;31mCheck that the Jupyter Server URL can be reached from a browser.\n",
      "\u001b[1;31mhttps://jupyter-server-wrgvx9q7xv69hwvj-8888.app.github.dev/. Click <a href='https://aka.ms/vscjremoteweb'>here</a> for more information."
     ]
    }
   ],
   "source": [
    "air_plane = AirPlane(speed=900, altitude=10000, roll_angle=0, pitch_angle=0, yaw_angle=0)\n",
    "print(air_plane)\n",
    "air_plane.fly()"
   ]
  },
  {
   "cell_type": "markdown",
   "metadata": {},
   "source": [
    "\n",
    "### Ejemplo 2: Reserva de vuelo\n",
    "\n",
    "En este segundo ejemplo, la clase `AirPlane` es una abstracción centrada en la reserva de asientos. Veamos cómo se aplica la abstracción:\n",
    "\n",
    "1. **Atributos simplificados**: Solo se consideran el número de asientos y si es VIP.\n",
    "\n",
    "2. **Métodos específicos**: Se incluyen métodos relevantes para la reserva (`reserve_seat`, `validate_seat`, `get_price`).\n",
    "\n",
    "3. **Encapsulación**: La validación de asientos está encapsulada en un método separado.\n",
    "\n",
    "4. **Lógica de precios simplificada**: Se usa una lógica simple para determinar el precio basado en el número de asiento."
   ]
  },
  {
   "cell_type": "code",
   "execution_count": 7,
   "metadata": {},
   "outputs": [],
   "source": [
    "class AirPlane:\n",
    "    def __init__(self, seats: int, is_vip: bool) -> None:\n",
    "        self.seats: int = seats\n",
    "        self.is_vip: bool = is_vip\n",
    "\n",
    "    def reserve_seat(self, seat_number: int) -> None:\n",
    "        if not self.validate_seat(seat_number):\n",
    "            print(f\"Seat number {seat_number} is not valid\")\n",
    "            return\n",
    "        print(f\"Seat number {seat_number} is reserved\")\n",
    "\n",
    "    def validate_seat(self, seat_number: int) -> bool:\n",
    "        return seat_number <= self.seats\n",
    "\n",
    "    def get_price(self, seat_number: int) -> float:\n",
    "        if 0 < seat_number <= self.seats // 2:\n",
    "            return 100.0\n",
    "        return 200.0\n",
    "\n",
    "    def __str__(self) -> str:\n",
    "        return f\"{self.seats} seats\""
   ]
  },
  {
   "cell_type": "code",
   "execution_count": 8,
   "metadata": {},
   "outputs": [
    {
     "name": "stdout",
     "output_type": "stream",
     "text": [
      "150 seats\n",
      "Seat number 10 is reserved\n",
      "200.0\n",
      "Seat number 200 is not valid\n"
     ]
    }
   ],
   "source": [
    "air_plane = AirPlane(seats=150, is_vip=False)\n",
    "print(air_plane)\n",
    "air_plane.reserve_seat(seat_number=10)\n",
    "print(air_plane.get_price(seat_number=120))\n",
    "air_plane.reserve_seat(seat_number=200)"
   ]
  },
  {
   "cell_type": "markdown",
   "metadata": {},
   "source": [
    "## Beneficios de la abstracción en estos ejemplos\n",
    "\n",
    "1. **Simplicidad**: Cada clase representa un aspecto específico de un avión (vuelo o reserva) de manera clara y simple.\n",
    "\n",
    "2. **Encapsulación**: Los detalles de implementación, como la validación de asientos, están ocultos dentro de la clase.\n",
    "\n",
    "3. **Flexibilidad**: Podemos modificar la implementación interna sin afectar el código que usa estas clases.\n",
    "\n",
    "4. **Reutilización**: Estas abstracciones pueden ser utilizadas en diferentes contextos (simuladores de vuelo, sistemas de reserva)."
   ]
  },
  {
   "cell_type": "markdown",
   "metadata": {},
   "source": [
    "## Conclusión\n",
    "\n",
    "La abstracción en POO nos permite modelar sistemas complejos de manera más manejable. En los ejemplos de `AirPlane`, vemos cómo podemos representar diferentes aspectos de un avión (su vuelo y su sistema de reservas) de forma simplificada, centrándose en los detalles relevantes para cada caso de uso.\n",
    "\n",
    "Esta capacidad de abstraer conceptos complejos en modelos más simples y manejables es fundamental en el desarrollo de software. Permite a los desarrolladores crear sistemas más organizados, flexibles y fáciles de mantener. Además, facilita la comunicación entre diferentes partes del sistema y entre los miembros del equipo de desarrollo.\n",
    "\n",
    "En el mundo real del desarrollo de software, la abstracción nos ayuda a crear APIs limpias, frameworks flexibles y sistemas que pueden evolucionar con el tiempo sin necesidad de reescribir grandes porciones de código. Es una habilidad esencial para cualquier desarrollador de software que busque crear soluciones elegantes y duraderas."
   ]
  }
 ],
 "metadata": {
  "kernelspec": {
   "display_name": "Python 3 (ipykernel)",
   "language": "python",
   "name": "python3"
  }
 },
 "nbformat": 4,
 "nbformat_minor": 2
}
