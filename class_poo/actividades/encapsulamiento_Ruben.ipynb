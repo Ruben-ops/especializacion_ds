{
 "cells": [
  {
   "cell_type": "markdown",
   "metadata": {},
   "source": [
    "Ejercicio de encapsulamiento Ruben Fernandez de castro"
   ]
  },
  {
   "cell_type": "markdown",
   "metadata": {},
   "source": [
    "Cree una clase empleado y modifico los atributos privados por medio del método ascender"
   ]
  },
  {
   "cell_type": "code",
   "execution_count": 1,
   "metadata": {},
   "outputs": [],
   "source": [
    "class Empleado:\n",
    "\n",
    "    def __init__(self, nombre:str,salario:int, cargo:str) ->None:\n",
    "        self.nombre:str = nombre\n",
    "        self.__salario:int = salario\n",
    "        self.__cargo:str = cargo\n",
    "\n",
    "    def obtener_salario(self)->int:\n",
    "        return self.__salario\n",
    "\n",
    "    def obtener_cargo(self)->str:\n",
    "        return self.__cargo\n",
    "\n",
    "    def __str__(self)-> str:\n",
    "        return f\"nombre {self.nombre}, cargo {self.__cargo}, salario {self.__salario}\"\n",
    "\n",
    "    def ascender(self, nuevo_cargo:str, aumento:int) ->None:\n",
    "        if aumento>0:\n",
    "            self.__salario +=aumento\n",
    "            self.__cargo = nuevo_cargo\n",
    "\n"
   ]
  },
  {
   "cell_type": "code",
   "execution_count": 4,
   "metadata": {},
   "outputs": [
    {
     "name": "stdout",
     "output_type": "stream",
     "text": [
      "nombre Ruben, cargo dev jr, salario 1000\n",
      "dev jr\n",
      "1000\n",
      "nombre Ruben, cargo dev senior, salario 1500\n"
     ]
    }
   ],
   "source": [
    "empleado=  Empleado(nombre=\"Ruben\",salario=1000,cargo=\"dev jr\")\n",
    "print(empleado)\n",
    "print(empleado.obtener_cargo())\n",
    "print(empleado.obtener_salario())\n",
    "empleado.ascender(nuevo_cargo=\"dev senior\", aumento = 500)\n",
    "print(empleado)"
   ]
  }
 ],
 "metadata": {
  "kernelspec": {
   "display_name": "Python 3 (ipykernel)",
   "language": "python",
   "name": "python3"
  },
  "language_info": {
   "codemirror_mode": {
    "name": "ipython",
    "version": 3
   },
   "file_extension": ".py",
   "mimetype": "text/x-python",
   "name": "python",
   "nbconvert_exporter": "python",
   "pygments_lexer": "ipython3",
   "version": "3.12.1"
  }
 },
 "nbformat": 4,
 "nbformat_minor": 2
}
