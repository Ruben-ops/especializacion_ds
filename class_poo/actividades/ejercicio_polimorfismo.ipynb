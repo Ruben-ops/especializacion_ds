{
 "cells": [
  {
   "cell_type": "code",
   "execution_count": 1,
   "metadata": {},
   "outputs": [],
   "source": [
    "from abc import ABC, abstractmethod\n",
    "\n",
    "class Poligono(ABC):\n",
    "\n",
    "    @abstractmethod\n",
    "    def calcular_area(self)->float:\n",
    "        pass\n",
    "    def calcular_perimetro(self)->float:\n",
    "        pass"
   ]
  },
  {
   "cell_type": "code",
   "execution_count": 2,
   "metadata": {},
   "outputs": [],
   "source": [
    "class Rectangulo(Poligono):\n",
    "\n",
    "    def __init__ (self, ancho: float, alto: float)-> float:\n",
    "        self.ancho:float = ancho\n",
    "        self.alto:float = alto\n",
    "\n",
    "    def calcular_area(self)->float:\n",
    "        return self.ancho * self.alto\n",
    "\n",
    "    def calcular_perimetro(self)->float:\n",
    "        return 2*self.ancho + 2*self.alto"
   ]
  },
  {
   "cell_type": "code",
   "execution_count": 3,
   "metadata": {},
   "outputs": [
    {
     "name": "stdout",
     "output_type": "stream",
     "text": [
      "el area es 20.0\n",
      "el area es 18.0\n"
     ]
    }
   ],
   "source": [
    "rect: Rectangulo= Rectangulo(ancho= 4.0, alto= 5.0)\n",
    "area = rect.calcular_area()\n",
    "perimetro = rect.calcular_perimetro()\n",
    "print(f\"el area es {area}\")\n",
    "print(f\"el area es {perimetro}\")"
   ]
  },
  {
   "cell_type": "code",
   "execution_count": 7,
   "metadata": {},
   "outputs": [],
   "source": [
    "import math\n",
    "class Circulo(Poligono):\n",
    "\n",
    "    def __init__ (self, radio:float)-> float:\n",
    "        self.radio:float = radio\n",
    "\n",
    "    def calcular_area(self)->float:\n",
    "        return math.pi*pow(self.radio,2)\n",
    "\n",
    "    def calcular_perimetro(self)->float:\n",
    "        return math.pi*2*self.radio\n",
    "\n"
   ]
  },
  {
   "cell_type": "code",
   "execution_count": 8,
   "metadata": {},
   "outputs": [
    {
     "name": "stdout",
     "output_type": "stream",
     "text": [
      "el area es 78.53981633974483\n",
      "el area es 31.41592653589793\n"
     ]
    }
   ],
   "source": [
    "circulo: Circulo = Circulo(radio= 5.0)\n",
    "area = circulo.calcular_area()\n",
    "perimetro = circulo.calcular_perimetro()\n",
    "print(f\"el area es {area}\")\n",
    "print(f\"el area es {perimetro}\")"
   ]
  },
  {
   "cell_type": "code",
   "execution_count": 11,
   "metadata": {},
   "outputs": [],
   "source": [
    "class Cuadrado(Rectangulo):\n",
    "    def __init__ (self, lado:float)-> float:\n",
    "        self.lado:float = lado\n",
    "\n",
    "    def calcular_area(self)->float:\n",
    "        return self.lado*self.lado\n",
    "\n",
    "    def calcular_perimetro(self)->float:\n",
    "        return 4*self.lado"
   ]
  },
  {
   "cell_type": "code",
   "execution_count": 12,
   "metadata": {},
   "outputs": [
    {
     "name": "stdout",
     "output_type": "stream",
     "text": [
      "el area es 100\n",
      "el area es 40\n"
     ]
    }
   ],
   "source": [
    "cuadrado: Cuadrado = Cuadrado(lado= 10)\n",
    "area = cuadrado.calcular_area()\n",
    "perimetro = cuadrado.calcular_perimetro()\n",
    "print(f\"el area es {area}\")\n",
    "print(f\"el area es {perimetro}\")"
   ]
  }
 ],
 "metadata": {
  "kernelspec": {
   "display_name": "Python 3 (ipykernel)",
   "language": "python",
   "name": "python3"
  },
  "language_info": {
   "codemirror_mode": {
    "name": "ipython",
    "version": 3
   },
   "file_extension": ".py",
   "mimetype": "text/x-python",
   "name": "python",
   "nbconvert_exporter": "python",
   "pygments_lexer": "ipython3",
   "version": "3.12.1"
  }
 },
 "nbformat": 4,
 "nbformat_minor": 2
}
