{
 "cells": [
  {
   "cell_type": "markdown",
   "metadata": {},
   "source": [
    "Herencia por Ruben fernandez de castro"
   ]
  },
  {
   "cell_type": "code",
   "execution_count": 4,
   "metadata": {},
   "outputs": [],
   "source": [
    "from abc import ABC, abstractmethod\n",
    "\n",
    "class Terrestre(ABC):\n",
    "    @abstractmethod\n",
    "    def caminar(self):\n",
    "        pass\n",
    "\n",
    "class Acuatico(ABC):\n",
    "    @abstractmethod\n",
    "    def nadar(self):\n",
    "        pass\n",
    "\n",
    "class Animal:\n",
    "    def __init__(self, nombre: str)->None:\n",
    "        self.nombre: str = nombre\n",
    "\n",
    "    def comer(self):\n",
    "        print(f\"{self.nombre} está comiendo.\")\n",
    "\n",
    "\n",
    "class Perro(Animal, Terrestre):\n",
    "    def caminar(self):\n",
    "        print(f\"{self.nombre} está caminando en tierra.\")\n",
    "\n",
    "class Pez(Animal, Acuatico):\n",
    "    def nadar(self):\n",
    "        print(f\"{self.nombre} está nadando.\")\n",
    "\n",
    "class Rana(Animal, Terrestre, Acuatico):\n",
    "    def caminar(self):\n",
    "        print(f\"{self.nombre} está saltando en tierra.\")\n",
    "\n",
    "    def nadar(self):\n",
    "        print(f\"{self.nombre} está nadando en el agua.\")\n",
    "\n"
   ]
  },
  {
   "cell_type": "code",
   "execution_count": 3,
   "metadata": {},
   "outputs": [
    {
     "name": "stdout",
     "output_type": "stream",
     "text": [
      "Firulais está comiendo.\n",
      "Firulais está caminando en tierra.\n",
      "Nemo está comiendo.\n",
      "Nemo está nadando.\n",
      "Rene está comiendo.\n",
      "Rene está saltando en tierra.\n",
      "Rene está nadando en el agua.\n"
     ]
    }
   ],
   "source": [
    "perro = Perro(nombre=\"Firulais\")\n",
    "perro.comer()\n",
    "perro.caminar()\n",
    "\n",
    "pez = Pez(nombre=\"Nemo\")\n",
    "pez.comer()\n",
    "pez.nadar()\n",
    "\n",
    "rana = Rana(nombre=\"Rene\")\n",
    "rana.comer()\n",
    "rana.caminar()\n",
    "rana.nadar()"
   ]
  }
 ],
 "metadata": {
  "kernelspec": {
   "display_name": "Python 3 (ipykernel)",
   "language": "python",
   "name": "python3"
  }
 },
 "nbformat": 4,
 "nbformat_minor": 2
}
