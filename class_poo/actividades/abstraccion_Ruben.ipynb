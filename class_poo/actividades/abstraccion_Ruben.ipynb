{
 "cells": [
  {
   "cell_type": "markdown",
   "metadata": {},
   "source": [
    "Ejercicio de abstraccion\n",
    "Realizado por Ruben D. Fernandez de castro"
   ]
  },
  {
   "cell_type": "markdown",
   "metadata": {},
   "source": [
    "Cree la clase Perro y lo enfoque a la venta de los mismos"
   ]
  },
  {
   "cell_type": "code",
   "execution_count": 9,
   "metadata": {},
   "outputs": [],
   "source": [
    "class Perro:\n",
    "    aumento_raza = {\n",
    "        \"labrador\" : 1.2,\n",
    "        \"bulldog frances\": 3.0,\n",
    "    }\n",
    "    especie:str = \"canis lupus familiaris\"\n",
    "    def __init__(self, raza:str, peso:float, edad:int, sexo:str)->None:\n",
    "      self.raza :str = raza\n",
    "      self.peso :float = peso\n",
    "      self.edad :int = edad # se debe expresar en meses\n",
    "      self.sexo :str = sexo\n",
    "\n",
    "    def is_cachorro(self):\n",
    "       return self.edad<16\n",
    "\n",
    "    def calcular_valor(self, valor_base):\n",
    "        aumento_raza = self.aumento_raza.get(self.raza,1.0)\n",
    "        if self.is_cachorro():\n",
    "            valor = valor_base*1.5\n",
    "        else:\n",
    "            valor = valor_base\n",
    "\n",
    "        valor *= aumento_raza\n",
    "        return valor\n",
    "\n",
    "    @classmethod\n",
    "    def cambiar_escuela(cls, nueva_especie: str) -> None:\n",
    "        cls.especie = nueva_especie\n",
    "\n",
    "\n",
    "\n"
   ]
  },
  {
   "cell_type": "code",
   "execution_count": 10,
   "metadata": {},
   "outputs": [
    {
     "name": "stdout",
     "output_type": "stream",
     "text": [
      "El valor del perro es :360.0 dolares\n",
      "El valor del perro es :1350.0 dolares\n"
     ]
    }
   ],
   "source": [
    "perro = Perro(raza=\"labrador\", peso= 30.5, edad= 24, sexo= \"hembra\")\n",
    "valor_base :int=300\n",
    "valor_perro= perro.calcular_valor(valor_base)\n",
    "print(f\"El valor del perro es :{valor_perro} dolares\")\n",
    "perroex = Perro(raza=\"bulldog frances\", peso= 2.5, edad= 5, sexo= \"hembra\")\n",
    "valor_perro= perroex.calcular_valor(valor_base)\n",
    "print(f\"El valor del perro es :{valor_perro} dolares\")"
   ]
  }
 ],
 "metadata": {
  "kernelspec": {
   "display_name": "Python 3 (ipykernel)",
   "language": "python",
   "name": "python3"
  },
  "language_info": {
   "codemirror_mode": {
    "name": "ipython",
    "version": 3
   },
   "file_extension": ".py",
   "mimetype": "text/x-python",
   "name": "python",
   "nbconvert_exporter": "python",
   "pygments_lexer": "ipython3",
   "version": "3.12.1"
  }
 },
 "nbformat": 4,
 "nbformat_minor": 2
}
