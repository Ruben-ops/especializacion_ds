{
 "cells": [
  {
   "cell_type": "code",
   "execution_count": 1,
   "metadata": {},
   "outputs": [],
   "source": [
    "from enum import Enum\n",
    "from dataclasses import dataclass\n",
    "\n",
    "@dataclass(frozen=True)\n",
    "class Armor(Enum):\n",
    "    CLOTHES = \"Ropa acolchada\"\n",
    "    LEATHER = \"Armadura de cuero\"\n",
    "    CHAIN_MAIL = \"Cota de malla\"\n",
    "    PLATE_MAIL = \"Cota de placa\"\n",
    "\n",
    "    def __str__(self):\n",
    "        return self.value"
   ]
  },
  {
   "cell_type": "code",
   "execution_count": 2,
   "metadata": {},
   "outputs": [],
   "source": [
    "from enum import Enum\n",
    "\n",
    "class HairColor(Enum):\n",
    "    BLANCO = \"blanco\"\n",
    "    RUBIO = \"rubio\"\n",
    "    ROJO = \"rojo\"\n",
    "    CAFE = \"cafe\"\n",
    "    NEGRO = \"negro\"\n",
    "\n",
    "    def __str__(self):\n",
    "        return self.name.lower()"
   ]
  },
  {
   "cell_type": "code",
   "execution_count": 3,
   "metadata": {},
   "outputs": [],
   "source": [
    "from enum import Enum\n",
    "from dataclasses import dataclass\n",
    "\n",
    "@dataclass(frozen=True)\n",
    "class HairType(Enum):\n",
    "    CALVO = \"calvo\"\n",
    "    CORTO = \"corto\"\n",
    "    RIZADO = \"rizado\"\n",
    "    RECTA_LARGA = \"recta larga\"\n",
    "    RIZADO_LARGO = \"rizado largo\"\n",
    "\n",
    "    def __str__(self):\n",
    "        return self.value"
   ]
  },
  {
   "cell_type": "code",
   "execution_count": 4,
   "metadata": {},
   "outputs": [],
   "source": [
    "from enum import Enum\n",
    "class Profession(Enum):\n",
    "    WARRIOR = \"warrior\"\n",
    "    THIEF = \"thief\"\n",
    "    MAGE = \"mage\"\n",
    "    PRIEST = \"priest\"\n",
    "\n",
    "    def __str__(self):\n",
    "        return self.value"
   ]
  },
  {
   "cell_type": "code",
   "execution_count": 5,
   "metadata": {},
   "outputs": [],
   "source": [
    "from enum import Enum\n",
    "class Weapon(Enum):\n",
    "    DAGA = \"daga\"\n",
    "    ESPADA = \"espada\"\n",
    "    HACHA = \"hacha\"\n",
    "    MARTILLO_DE_GUERRA = \"martillo de guerra\"\n",
    "    ARCO = \"arco\"\n",
    "\n",
    "    def __str__(self):\n",
    "        return self.value"
   ]
  },
  {
   "cell_type": "code",
   "execution_count": 6,
   "metadata": {},
   "outputs": [],
   "source": [
    "class Hero:\n",
    "    def __init__(self, builder):\n",
    "        self.profession = builder.profession\n",
    "        self.name = builder.name\n",
    "        self.hair_type = builder.hair_type\n",
    "        self.hair_color = builder.hair_color\n",
    "        self.armor = builder.armor\n",
    "        self.weapon = builder.weapon\n",
    "\n",
    "    def __str__(self):\n",
    "        return (f\"Hero({self.name}, {self.profession}, \"\n",
    "                f\"{self.hair_type}, {self.hair_color}, {self.armor}, {self.weapon})\")\n",
    "\n",
    "    class Builder:\n",
    "        def __init__(self, profession, name):\n",
    "            if profession is None or name is None:\n",
    "                raise ValueError(\"profession and name cannot be None\")\n",
    "            self.profession = profession\n",
    "            self.name = name\n",
    "            self.hair_type = None\n",
    "            self.hair_color = None\n",
    "            self.armor = None\n",
    "            self.weapon = None\n",
    "\n",
    "        def with_hair_type(self, hair_type):\n",
    "            self.hair_type = hair_type\n",
    "            return self\n",
    "\n",
    "        def with_hair_color(self, hair_color):\n",
    "            self.hair_color = hair_color\n",
    "            return self\n",
    "\n",
    "        def with_armor(self, armor):\n",
    "            self.armor = armor\n",
    "            return self\n",
    "\n",
    "        def with_weapon(self, weapon):\n",
    "            self.weapon = weapon\n",
    "            return self\n",
    "\n",
    "        def build(self):\n",
    "            return Hero(self)"
   ]
  },
  {
   "cell_type": "code",
   "execution_count": 7,
   "metadata": {},
   "outputs": [
    {
     "name": "stderr",
     "output_type": "stream",
     "text": [
      "INFO:__main__:Hero(Ruben, mage, None, negro, None, daga)\n",
      "INFO:__main__:Hero(Kirito, warrior, rizado largo, rubio, Cota de malla, espada)\n",
      "INFO:__main__:Hero(Van hellsing, thief, calvo, None, None, arco)\n"
     ]
    }
   ],
   "source": [
    "import logging\n",
    "\n",
    "logging.basicConfig(level=logging.INFO)\n",
    "logger = logging.getLogger(__name__)\n",
    "\n",
    "mage = Hero.Builder(Profession.MAGE, \"Ruben\") \\\n",
    "    .with_hair_color(HairColor.NEGRO) \\\n",
    "    .with_weapon(Weapon.DAGA) \\\n",
    "    .build()\n",
    "logger.info(mage)\n",
    "\n",
    "warrior = Hero.Builder(Profession.WARRIOR, \"Kirito\") \\\n",
    "    .with_hair_color(HairColor.RUBIO) \\\n",
    "    .with_hair_type(HairType.RIZADO_LARGO) \\\n",
    "    .with_armor(Armor.CHAIN_MAIL) \\\n",
    "    .with_weapon(Weapon.ESPADA) \\\n",
    "    .build()\n",
    "logger.info(warrior)\n",
    "\n",
    "thief = Hero.Builder(Profession.THIEF, \"Van hellsing\") \\\n",
    "    .with_hair_type(HairType.CALVO) \\\n",
    "    .with_weapon(Weapon.ARCO) \\\n",
    "    .build()\n",
    "logger.info(thief)\n"
   ]
  }
 ],
 "metadata": {
  "kernelspec": {
   "display_name": "Python 3 (ipykernel)",
   "language": "python",
   "name": "python3"
  },
  "language_info": {
   "codemirror_mode": {
    "name": "ipython",
    "version": 3
   },
   "file_extension": ".py",
   "mimetype": "text/x-python",
   "name": "python",
   "nbconvert_exporter": "python",
   "pygments_lexer": "ipython3",
   "version": "3.12.1"
  }
 },
 "nbformat": 4,
 "nbformat_minor": 2
}
