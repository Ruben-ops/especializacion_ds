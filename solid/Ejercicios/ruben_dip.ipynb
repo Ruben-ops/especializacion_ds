{
 "cells": [
  {
   "cell_type": "markdown",
   "metadata": {},
   "source": [
    "Ejercicio de Inversión de dependencias  \n",
    "Ruben D. Fernandez de castro"
   ]
  },
  {
   "cell_type": "markdown",
   "metadata": {},
   "source": [
    "Ejemplo Incorrecto"
   ]
  },
  {
   "cell_type": "code",
   "execution_count": 1,
   "metadata": {},
   "outputs": [],
   "source": [
    "class PayPalPayment:\n",
    "    def realizar_pago(self, monto: float):\n",
    "        print(f\"Procesando pago de ${monto} a través de PayPal\")\n",
    "\n",
    "class StripePayment:\n",
    "    def realizar_pago(self, monto: float):\n",
    "        print(f\"Procesando pago de ${monto} a través de Stripe\")\n",
    "\n",
    "class ProcesadorDePagos:\n",
    "    def __init__(self, metodo: str):\n",
    "        if metodo == \"PayPal\":\n",
    "            self.proveedor = PayPalPayment()\n",
    "        elif metodo == \"Stripe\":\n",
    "            self.proveedor = StripePayment()\n",
    "\n",
    "    def procesar(self, monto: float):\n",
    "        self.proveedor.realizar_pago(monto)\n",
    "\n",
    "\n",
    "\n"
   ]
  },
  {
   "cell_type": "code",
   "execution_count": 2,
   "metadata": {},
   "outputs": [
    {
     "name": "stdout",
     "output_type": "stream",
     "text": [
      "Procesando pago de $100.0 a través de PayPal\n"
     ]
    }
   ],
   "source": [
    "procesador = ProcesadorDePagos(\"PayPal\")\n",
    "procesador.procesar(100.0)"
   ]
  },
  {
   "cell_type": "markdown",
   "metadata": {},
   "source": [
    "Ejemplo correcto"
   ]
  },
  {
   "cell_type": "code",
   "execution_count": 3,
   "metadata": {},
   "outputs": [],
   "source": [
    "from abc import ABC, abstractmethod\n",
    "class ProveedorPago(ABC):\n",
    "    @abstractmethod\n",
    "    def realizar_pago(self, monto: float):\n",
    "        pass\n",
    "\n",
    "class PayPalPayment(ProveedorPago):\n",
    "    def realizar_pago(self, monto: float):\n",
    "        print(f\"Procesando pago de ${monto} a través de PayPal\")\n",
    "\n",
    "class StripePayment(ProveedorPago):\n",
    "    def realizar_pago(self, monto: float):\n",
    "        print(f\"Procesando pago de ${monto} a través de Stripe\")\n",
    "\n",
    "class ProcesadorDePagos:\n",
    "    def __init__(self, proveedor: ProveedorPago):\n",
    "        self.proveedor = proveedor\n",
    "\n",
    "    def procesar(self, monto: float):\n",
    "        self.proveedor.realizar_pago(monto)\n",
    "\n",
    "\n"
   ]
  },
  {
   "cell_type": "code",
   "execution_count": 4,
   "metadata": {},
   "outputs": [
    {
     "name": "stdout",
     "output_type": "stream",
     "text": [
      "Procesando pago de $100.0 a través de PayPal\n",
      "Procesando pago de $200.0 a través de Stripe\n"
     ]
    }
   ],
   "source": [
    "proveedor_paypal = PayPalPayment()\n",
    "procesador_paypal = ProcesadorDePagos(proveedor_paypal)\n",
    "procesador_paypal.procesar(100.0)\n",
    "\n",
    "proveedor_stripe = StripePayment()\n",
    "procesador_stripe = ProcesadorDePagos(proveedor_stripe)\n",
    "procesador_stripe.procesar(200.0)"
   ]
  }
 ],
 "metadata": {
  "kernelspec": {
   "display_name": "Python 3 (ipykernel)",
   "language": "python",
   "name": "python3"
  },
  "language_info": {
   "codemirror_mode": {
    "name": "ipython",
    "version": 3
   },
   "file_extension": ".py",
   "mimetype": "text/x-python",
   "name": "python",
   "nbconvert_exporter": "python",
   "pygments_lexer": "ipython3",
   "version": "3.12.1"
  }
 },
 "nbformat": 4,
 "nbformat_minor": 2
}
