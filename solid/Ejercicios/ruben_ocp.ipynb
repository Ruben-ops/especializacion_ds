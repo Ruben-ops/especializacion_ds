{
 "cells": [
  {
   "cell_type": "markdown",
   "metadata": {},
   "source": [
    "Ejercicio del principio OPEN-CLOSED\n",
    "Ruben Dario Fernandez de castro"
   ]
  },
  {
   "cell_type": "markdown",
   "metadata": {},
   "source": [
    "Ejemplo incorrecto: El problema que presenta está implementación consiste en que una vez que se necesite agregar una nueva forma de calcular el salario de los empleados debe modificarse la clase Empleado"
   ]
  },
  {
   "cell_type": "code",
   "execution_count": 7,
   "metadata": {},
   "outputs": [],
   "source": [
    "class Empleado:\n",
    "    def __init__(self, nombre: str, cargo: str, salario_hora: int) -> None:\n",
    "        self.nombre: str = nombre\n",
    "        self.salario_hora: int = salario_hora\n",
    "        self.cargo: str = cargo\n",
    "\n",
    "    def obtener_salario(self, horas_trabajadas: int)->int:\n",
    "        if self.cargo == \"gerente\":\n",
    "           return self.salario_hora * horas_trabajadas *2\n",
    "        else:\n",
    "           return self.salario_hora * horas_trabajadas"
   ]
  },
  {
   "cell_type": "code",
   "execution_count": 8,
   "metadata": {},
   "outputs": [
    {
     "name": "stdout",
     "output_type": "stream",
     "text": [
      "El salario de Ruben es 3400000\n"
     ]
    }
   ],
   "source": [
    "empleado : Empleado = Empleado(nombre=\"Ruben\", cargo=\"Desarrollador\", salario_hora=20000)\n",
    "salario =empleado.obtener_salario(170)\n",
    "print(f'El salario de {empleado.nombre} es {salario}')"
   ]
  },
  {
   "cell_type": "markdown",
   "metadata": {},
   "source": [
    "Ejemplo correcto: con esta versión se pueden añadir nuevas reglas para el cálculo de los pagos sin tener que modificar las existentes."
   ]
  },
  {
   "cell_type": "code",
   "execution_count": 9,
   "metadata": {},
   "outputs": [],
   "source": [
    "class Empleado:\n",
    "    def __init__(self, nombre: str, cargo: str, salario_hora: int) -> None:\n",
    "        self.nombre: str = nombre\n",
    "        self.salario_hora: int = salario_hora\n",
    "        self.cargo: str = cargo\n",
    "\n",
    "class CalculoPago:\n",
    "    @staticmethod\n",
    "    def calcula_pago(empleado: Empleado, horas_trabajadas: int)->int:\n",
    "        return empleado.salario_hora * horas_trabajadas\n",
    "\n",
    "class CalculoPagoGerente(CalculoPago):\n",
    "    @staticmethod\n",
    "    def calcula_pago(empleado: Empleado, horas_trabajadas: int)->int:\n",
    "        return empleado.salario_hora * horas_trabajadas *2\n"
   ]
  },
  {
   "cell_type": "code",
   "execution_count": 10,
   "metadata": {},
   "outputs": [
    {
     "name": "stdout",
     "output_type": "stream",
     "text": [
      "El salario de Ruben es 3400000\n",
      "El salario de Ana es 4800000\n"
     ]
    }
   ],
   "source": [
    "empleado : Empleado = Empleado(nombre=\"Ruben\", cargo=\"Desarrollador\", salario_hora=20000)\n",
    "pago = CalculoPago.calcula_pago(empleado, 170)\n",
    "print(f'El salario de {empleado.nombre} es {pago}')\n",
    "gerente : Empleado = Empleado(nombre=\"Ana\", cargo=\"Gerente\", salario_hora=20000)\n",
    "pago = CalculoPagoGerente.calcula_pago(gerente, 120)\n",
    "print(f'El salario de {gerente.nombre} es {pago}')"
   ]
  }
 ],
 "metadata": {
  "kernelspec": {
   "display_name": "Python 3 (ipykernel)",
   "language": "python",
   "name": "python3"
  },
  "language_info": {
   "codemirror_mode": {
    "name": "ipython",
    "version": 3
   },
   "file_extension": ".py",
   "mimetype": "text/x-python",
   "name": "python",
   "nbconvert_exporter": "python",
   "pygments_lexer": "ipython3",
   "version": "3.12.1"
  }
 },
 "nbformat": 4,
 "nbformat_minor": 2
}
