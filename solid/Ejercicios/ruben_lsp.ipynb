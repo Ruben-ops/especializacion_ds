{
 "cells": [
  {
   "cell_type": "markdown",
   "metadata": {},
   "source": [
    "Ejemplo de violación al principio de sustitución de Liskov: El problema que presenta esta implementación es que la lógica o regla de un empleado común es distinta a la lógica de un empleado por proyecto aunque su método obtener_salario_total() recibe los mismos parametros pero como la forma de calcular el salario no es por horas entonces no es posible hacer el cálculo como se hace en la clase Empleado."
   ]
  },
  {
   "cell_type": "code",
   "execution_count": 1,
   "metadata": {},
   "outputs": [],
   "source": [
    "class Empleado:\n",
    "    def __init__(self, nombre: str, salario_hora: int=0) -> None:\n",
    "        self.nombre: str = nombre\n",
    "        self.salario_hora: int = salario_hora\n",
    "\n",
    "    def obtener_salario_total(self, horas_trabajadas:int)->int:\n",
    "        return self.salario_hora * horas_trabajadas\n",
    "\n",
    "class EmpleadoPorProyecto(Empleado):\n",
    "    def __init__(self, nombre: str, salario_proyecto: int) -> None:\n",
    "        super().__init__(nombre)\n",
    "        self.salario_proyecto = salario_proyecto\n",
    "\n",
    "    def obtener_salario_total(self, horas_trabajadas: int = 0) -> int:\n",
    "        return self.salario_proyecto"
   ]
  },
  {
   "cell_type": "code",
   "execution_count": 2,
   "metadata": {},
   "outputs": [
    {
     "name": "stdout",
     "output_type": "stream",
     "text": [
      "1280000\n",
      "50000\n"
     ]
    }
   ],
   "source": [
    "empleado : Empleado = Empleado(nombre=\"Ruben\", salario_hora=20000)\n",
    "print(empleado.obtener_salario_total(horas_trabajadas= 64))\n",
    "contratista: EmpleadoPorProyecto = EmpleadoPorProyecto(nombre=\"Ana\", salario_proyecto=50000)\n",
    "print(contratista.obtener_salario_total())\n"
   ]
  },
  {
   "cell_type": "markdown",
   "metadata": {},
   "source": [
    "Ejemplo Correcto:"
   ]
  },
  {
   "cell_type": "code",
   "execution_count": 19,
   "metadata": {},
   "outputs": [],
   "source": [
    "from abc import ABC, abstractmethod\n",
    "\n",
    "\n",
    "class EmpleadoBase(ABC):\n",
    "    def __init__(self, nombre: str) -> None:\n",
    "        self.nombre: str = nombre\n",
    "\n",
    "    @abstractmethod\n",
    "    def obtener_salario_total(self,horas_trabajadas: int=0) -> int:\n",
    "        pass\n",
    "\n",
    "\n",
    "class EmpleadoPorHoras(EmpleadoBase):\n",
    "    def __init__(self, nombre: str, salario_hora: int) -> None:\n",
    "        super().__init__(nombre)\n",
    "        self.salario_hora: int = salario_hora\n",
    "\n",
    "    def obtener_salario_total(self, horas_trabajadas: int=0) -> int:\n",
    "        return self.salario_hora * horas_trabajadas\n",
    "\n",
    "\n",
    "class EmpleadoPorProyecto(EmpleadoBase):\n",
    "    def __init__(self, nombre: str, salario_proyecto: int) -> None:\n",
    "        super().__init__(nombre)\n",
    "        self.salario_proyecto: int = salario_proyecto\n",
    "\n",
    "    def obtener_salario_total(self, horas_trabajadas: int =0) -> int:\n",
    "        return self.salario_proyecto"
   ]
  },
  {
   "cell_type": "code",
   "execution_count": 20,
   "metadata": {},
   "outputs": [
    {
     "name": "stdout",
     "output_type": "stream",
     "text": [
      "Pago para Juan: 6000\n",
      "Pago para Ana: 3000\n"
     ]
    }
   ],
   "source": [
    "empleado1 = EmpleadoPorHoras(\"Juan\", 50)\n",
    "empleado2 = EmpleadoPorProyecto(\"Ana\", 3000)\n",
    "\n",
    "def procesar_pago(empleado: EmpleadoBase, horas_trabajadas:int=0) -> None:\n",
    "    print(f\"Pago para {empleado.nombre}: {empleado.obtener_salario_total(horas_trabajadas)}\")\n",
    "\n",
    "procesar_pago(empleado1,120)\n",
    "procesar_pago(empleado2)"
   ]
  }
 ],
 "metadata": {
  "kernelspec": {
   "display_name": "Python 3 (ipykernel)",
   "language": "python",
   "name": "python3"
  },
  "language_info": {
   "codemirror_mode": {
    "name": "ipython",
    "version": 3
   },
   "file_extension": ".py",
   "mimetype": "text/x-python",
   "name": "python",
   "nbconvert_exporter": "python",
   "pygments_lexer": "ipython3",
   "version": "3.12.1"
  }
 },
 "nbformat": 4,
 "nbformat_minor": 2
}
