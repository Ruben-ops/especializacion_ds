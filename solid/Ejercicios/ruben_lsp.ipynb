{
 "cells": [
  {
   "cell_type": "markdown",
   "metadata": {},
   "source": [
    "Ejemplo de violación al principio de sustitución de Liskov: El problema que presenta esta implementación es que la lógica o regla de un empleado común es distinta a la lógica de un empleado por proyecto aunque su método obtener_salario_total() recibe los mismos parametros pero como la forma de calcular el salario no es por horas entonces no es posible hacer el cálculo como se hace en la clase Empleado."
   ]
  },
  {
   "cell_type": "code",
   "execution_count": 17,
   "metadata": {},
   "outputs": [],
   "source": [
    "class Empleado:\n",
    "    def __init__(self, nombre: str, salario_hora: int=0) -> None:\n",
    "        self.nombre: str = nombre\n",
    "        self.salario_hora: int = salario_hora\n",
    "\n",
    "    def obtener_salario_total(self, horas_trabajadas:int)->int:\n",
    "        return self.salario_hora * horas_trabajadas\n",
    "\n",
    "class EmpleadoPorProyecto(Empleado):\n",
    "    def obtener_salario_total(self, horas_trabajadas:int=0)->int:\n",
    "        raise NotImplementedError(\"El salario no depende de las horas trabajadas\")"
   ]
  },
  {
   "cell_type": "code",
   "execution_count": 18,
   "metadata": {},
   "outputs": [
    {
     "name": "stdout",
     "output_type": "stream",
     "text": [
      "1280000\n"
     ]
    },
    {
     "ename": "NotImplementedError",
     "evalue": "El salario no depende de las horas trabajadas",
     "output_type": "error",
     "traceback": [
      "\u001b[0;31m---------------------------------------------------------------------------\u001b[0m",
      "\u001b[0;31mNotImplementedError\u001b[0m                       Traceback (most recent call last)",
      "Cell \u001b[0;32mIn[18], line 4\u001b[0m\n\u001b[1;32m      2\u001b[0m \u001b[38;5;28mprint\u001b[39m(empleado\u001b[38;5;241m.\u001b[39mobtener_salario_total(horas_trabajadas\u001b[38;5;241m=\u001b[39m \u001b[38;5;241m64\u001b[39m))\n\u001b[1;32m      3\u001b[0m contratista:EmpleadoPorProyecto \u001b[38;5;241m=\u001b[39m EmpleadoPorProyecto(nombre\u001b[38;5;241m=\u001b[39m\u001b[38;5;124m\"\u001b[39m\u001b[38;5;124mAna\u001b[39m\u001b[38;5;124m\"\u001b[39m)\n\u001b[0;32m----> 4\u001b[0m \u001b[38;5;28mprint\u001b[39m(\u001b[43mcontratista\u001b[49m\u001b[38;5;241;43m.\u001b[39;49m\u001b[43mobtener_salario_total\u001b[49m\u001b[43m(\u001b[49m\u001b[43m)\u001b[49m)\n",
      "Cell \u001b[0;32mIn[17], line 12\u001b[0m, in \u001b[0;36mEmpleadoPorProyecto.obtener_salario_total\u001b[0;34m(self, horas_trabajadas)\u001b[0m\n\u001b[1;32m     10\u001b[0m \u001b[38;5;28;01mdef\u001b[39;00m \u001b[38;5;21mobtener_salario_total\u001b[39m(\u001b[38;5;28mself\u001b[39m, horas_trabajadas:\u001b[38;5;28mint\u001b[39m\u001b[38;5;241m=\u001b[39m\u001b[38;5;241m0\u001b[39m)\u001b[38;5;241m-\u001b[39m\u001b[38;5;241m>\u001b[39m\u001b[38;5;28mint\u001b[39m:\n\u001b[0;32m---> 12\u001b[0m     \u001b[38;5;28;01mraise\u001b[39;00m \u001b[38;5;167;01mNotImplementedError\u001b[39;00m(\u001b[38;5;124m\"\u001b[39m\u001b[38;5;124mEl salario no depende de las horas trabajadas\u001b[39m\u001b[38;5;124m\"\u001b[39m)\n",
      "\u001b[0;31mNotImplementedError\u001b[0m: El salario no depende de las horas trabajadas"
     ]
    }
   ],
   "source": [
    "empleado : Empleado = Empleado(nombre=\"Ruben\", salario_hora=20000)\n",
    "print(empleado.obtener_salario_total(horas_trabajadas= 64))\n",
    "contratista:EmpleadoPorProyecto = EmpleadoPorProyecto(nombre=\"Ana\")\n",
    "print(contratista.obtener_salario_total())\n"
   ]
  },
  {
   "cell_type": "markdown",
   "metadata": {},
   "source": [
    "Ejemplo Correcto:"
   ]
  },
  {
   "cell_type": "code",
   "execution_count": 10,
   "metadata": {},
   "outputs": [],
   "source": [
    "from abc import ABC, abstractmethod\n",
    "\n",
    "\n",
    "class EmpleadoBase(ABC):\n",
    "    def __init__(self, nombre: str) -> None:\n",
    "        self.nombre: str = nombre\n",
    "\n",
    "    @abstractmethod\n",
    "    def obtener_salario_total(self,horas_trabajadas: int=0) -> int:\n",
    "        pass\n",
    "\n",
    "\n",
    "class EmpleadoPorHoras(EmpleadoBase):\n",
    "    def __init__(self, nombre: str, salario_hora: int) -> None:\n",
    "        super().__init__(nombre)\n",
    "        self.salario_hora: int = salario_hora\n",
    "\n",
    "    def obtener_salario_total(self, horas_trabajadas: int=0) -> int:\n",
    "        return self.salario_hora * horas_trabajadas\n",
    "\n",
    "\n",
    "class EmpleadoPorProyecto(EmpleadoBase):\n",
    "    def __init__(self, nombre: str, salario_proyecto: int) -> None:\n",
    "        super().__init__(nombre)\n",
    "        self.salario_proyecto: int = salario_proyecto\n",
    "\n",
    "    def obtener_salario_total(self, horas_trabajadas: int =0) -> int:\n",
    "        return self.salario_proyecto"
   ]
  },
  {
   "cell_type": "code",
   "execution_count": 5,
   "metadata": {},
   "outputs": [
    {
     "name": "stdout",
     "output_type": "stream",
     "text": [
      "Pago para Juan: 6000\n",
      "Pago para Ana: 3000\n"
     ]
    }
   ],
   "source": [
    "empleado1 = EmpleadoPorHoras(\"Juan\", 50)\n",
    "empleado2 = EmpleadoPorProyecto(\"Ana\", 3000)\n",
    "\n",
    "def procesar_pago(empleado: EmpleadoBase, horas_trabajadas:int=0) -> None:\n",
    "    print(f\"Pago para {empleado.nombre}: {empleado.obtener_salario_total(horas_trabajadas)}\")\n",
    "\n",
    "procesar_pago(empleado1,120)\n",
    "procesar_pago(empleado2)"
   ]
  }
 ],
 "metadata": {
  "kernelspec": {
   "display_name": "Python 3 (ipykernel)",
   "language": "python",
   "name": "python3"
  },
  "language_info": {
   "codemirror_mode": {
    "name": "ipython",
    "version": 3
   },
   "file_extension": ".py",
   "mimetype": "text/x-python",
   "name": "python",
   "nbconvert_exporter": "python",
   "pygments_lexer": "ipython3",
   "version": "3.12.1"
  }
 },
 "nbformat": 4,
 "nbformat_minor": 2
}
