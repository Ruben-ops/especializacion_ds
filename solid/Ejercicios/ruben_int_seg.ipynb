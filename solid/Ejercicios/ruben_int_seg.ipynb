{
 "cells": [
  {
   "cell_type": "markdown",
   "metadata": {},
   "source": [
    "Ejercicio de segregación de interfaces \n",
    "Ruben Fernandez de castro"
   ]
  },
  {
   "cell_type": "markdown",
   "metadata": {},
   "source": [
    "Ejemplo de violación al principio: En este ejemplo podemos apreciar varios problemas la interfaz Vehiculo combina métodos de diferentes dominios (conducir, volar, navegar), En Coche, los métodos volar y navegar deben ser implementados, pero no tienen sentido para esta clase. Tambien se puede apreciar que aparte de violar el principio de segregacion de interfaces, tambien el de single responsibility"
   ]
  },
  {
   "cell_type": "code",
   "execution_count": 1,
   "metadata": {},
   "outputs": [],
   "source": [
    "from abc import ABC, abstractmethod\n",
    "\n",
    "class Vehiculo(ABC):\n",
    "    @abstractmethod\n",
    "    def conducir(self):\n",
    "        pass\n",
    "\n",
    "    @abstractmethod\n",
    "    def volar(self):\n",
    "        pass\n",
    "\n",
    "    @abstractmethod\n",
    "    def navegar(self):\n",
    "        pass\n",
    "\n",
    "class Coche(Vehiculo):\n",
    "    def conducir(self):\n",
    "        print(\"Conduciendo en carretera\")\n",
    "\n",
    "    def volar(self):\n",
    "        raise NotImplementedError(\"El coche no puede volar\")\n",
    "\n",
    "    def navegar(self):\n",
    "        raise NotImplementedError(\"El coche no puede navegar\")\n",
    "\n",
    "class Avion(Vehiculo):\n",
    "    def conducir(self):\n",
    "        raise NotImplementedError(\"El avión no puede conducir en carretera\")\n",
    "\n",
    "    def volar(self):\n",
    "        print(\"Volando en el aire\")\n",
    "\n",
    "    def navegar(self):\n",
    "        raise NotImplementedError(\"El avión no puede navegar\")\n",
    "\n",
    "class Barco(Vehiculo):\n",
    "    def conducir(self):\n",
    "        raise NotImplementedError(\"El barco no puede conducir en carretera\")\n",
    "\n",
    "    def volar(self):\n",
    "        raise NotImplementedError(\"El barco no puede volar\")\n",
    "\n",
    "    def navegar(self):\n",
    "        print(\"Navegando en el agua\")\n"
   ]
  },
  {
   "cell_type": "code",
   "execution_count": null,
   "metadata": {},
   "outputs": [],
   "source": [
    "mi_coche :Coche= Coche()\n",
    "mi_avion :Avion = Avion()\n",
    "mi_barco :Barco= Barco()\n",
    "\n",
    "mi_coche.conducir()\n",
    "mi_avion.volar()\n",
    "mi_barco.navegar()"
   ]
  },
  {
   "cell_type": "markdown",
   "metadata": {},
   "source": [
    "alternativa correcta"
   ]
  },
  {
   "cell_type": "code",
   "execution_count": 10,
   "metadata": {},
   "outputs": [],
   "source": [
    "from abc import ABC, abstractmethod\n",
    "\n",
    "class VehiculoTerrestre(ABC):\n",
    "    @abstractmethod\n",
    "    def conducir(self):\n",
    "        pass\n",
    "\n",
    "class VehiculoAereo(ABC):\n",
    "    @abstractmethod\n",
    "    def volar(self):\n",
    "        pass\n",
    "\n",
    "class VehiculoAcuatico(ABC):\n",
    "    @abstractmethod\n",
    "    def navegar(self):\n",
    "        pass\n",
    "\n",
    "class Coche(VehiculoTerrestre):\n",
    "    def conducir(self):\n",
    "        print(\"Conduciendo en carretera\")\n",
    "\n",
    "class Avion(VehiculoAereo):\n",
    "    def volar(self):\n",
    "        print(\"Volando en el aire\")\n",
    "\n",
    "class Barco(VehiculoAcuatico):\n",
    "    def navegar(self):\n",
    "        print(\"Navegando en el agua\")\n"
   ]
  },
  {
   "cell_type": "code",
   "execution_count": 12,
   "metadata": {},
   "outputs": [
    {
     "name": "stdout",
     "output_type": "stream",
     "text": [
      "Conduciendo en carretera\n",
      "Volando en el aire\n",
      "Navegando en el agua\n"
     ]
    }
   ],
   "source": [
    "mi_coche :Coche = Coche()\n",
    "mi_avion :Avion = Avion()\n",
    "mi_barco :Barco = Barco()\n",
    "vehiculos = [mi_coche, mi_avion, mi_barco]\n",
    "for vehiculo in vehiculos:\n",
    "    if isinstance(vehiculo, VehiculoTerrestre):\n",
    "        vehiculo.conducir()\n",
    "    elif isinstance(vehiculo, VehiculoAereo):\n",
    "        vehiculo.volar()\n",
    "    elif isinstance(vehiculo, VehiculoAcuatico):\n",
    "        vehiculo.navegar()\n"
   ]
  }
 ],
 "metadata": {
  "kernelspec": {
   "display_name": "Python 3 (ipykernel)",
   "language": "python",
   "name": "python3"
  },
  "language_info": {
   "codemirror_mode": {
    "name": "ipython",
    "version": 3
   },
   "file_extension": ".py",
   "mimetype": "text/x-python",
   "name": "python",
   "nbconvert_exporter": "python",
   "pygments_lexer": "ipython3",
   "version": "3.12.1"
  }
 },
 "nbformat": 4,
 "nbformat_minor": 2
}
