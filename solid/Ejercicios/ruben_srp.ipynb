{
 "cells": [
  {
   "cell_type": "markdown",
   "metadata": {},
   "source": [
    "Ejercicio aplicando Single Responsibility\n",
    "\n",
    "Ruben Dario Fernandez de Castro P."
   ]
  },
  {
   "cell_type": "markdown",
   "metadata": {},
   "source": [
    "Ejemplo incorrecto: Esta clase incumple el principio de single responsibility debido que tiene varios metodos por ejemplo el metodo calcula pago puede que sea competencia del area contable que maneja la nomina, reportar_horas puede ser competencia del jefe del area o departamento etc"
   ]
  },
  {
   "cell_type": "code",
   "execution_count": 18,
   "metadata": {},
   "outputs": [],
   "source": [
    "class Empleado:\n",
    "    def __init__(self, nombre: str, cargo: str, salario_hora: int) -> None:\n",
    "        self.nombre: str = nombre\n",
    "        self.salario_hora: int = salario_hora\n",
    "        self.cargo: str = cargo\n",
    "        self.horas_trabajadas: list = []\n",
    "\n",
    "    def calcula_pago(self, horas_trabajadas: int) -> int:\n",
    "        return self.salario_hora * horas_trabajadas\n",
    "\n",
    "    def subir_dbs(self) -> None:\n",
    "        # Código para guardar el libro en una base de datos\n",
    "        pass\n",
    "\n",
    "    def reportar_horas(self, horas: int) -> None:\n",
    "        self.horas_trabajadas.append(horas)\n",
    "\n",
    "    def detalle_horas(self) -> str:\n",
    "        total_horas = sum(self.horas_trabajadas)\n",
    "        return f\"Empleado: {self.nombre}, Cargo: {self.cargo}, Horas trabajadas: {total_horas}, Detalle de horas: {self.horas_trabajadas}\"\n",
    "\n",
    "\n"
   ]
  },
  {
   "cell_type": "code",
   "execution_count": 19,
   "metadata": {},
   "outputs": [
    {
     "name": "stdout",
     "output_type": "stream",
     "text": [
      "Empleado: Juan Perez, Cargo: Empacador, Horas trabajadas: 18, Detalle de horas: [8, 10]\n",
      "144000\n"
     ]
    }
   ],
   "source": [
    "juan :Empleado = Empleado(nombre=\"Juan Perez\", cargo=\"Empacador\", salario_hora= 8000)\n",
    "juan.reportar_horas(8)\n",
    "juan.reportar_horas(10)\n",
    "print(juan.detalle_horas())\n",
    "pago= juan.calcula_pago(18)\n",
    "print(pago)"
   ]
  },
  {
   "cell_type": "markdown",
   "metadata": {},
   "source": [
    "Ejemplo correcto: Se crea una clase que se hace responsable de cada proceso, por ejemplo para los pagos, para reportar las horas y para guardar en la base de datos"
   ]
  },
  {
   "cell_type": "code",
   "execution_count": 20,
   "metadata": {},
   "outputs": [],
   "source": [
    "class Empleado:\n",
    "    def __init__(self, nombre: str, cargo: str, salario_hora: int) -> None:\n",
    "        self.nombre: str = nombre\n",
    "        self.salario_hora: int = salario_hora\n",
    "        self.cargo: str = cargo\n",
    "\n",
    "    def obtener_salario_hora(self) -> int:\n",
    "        return self.salario_hora\n",
    "\n",
    "    def __str__(self) -> str:\n",
    "        return f\"Empleado: {self.nombre}, Cargo: {self.cargo}\"\n",
    "\n",
    "\n",
    "class ReporteHoras:\n",
    "    def __init__(self) -> None:\n",
    "        self.horas_trabajadas: list = []\n",
    "\n",
    "    def reportar_horas(self, horas: int) -> None:\n",
    "        self.horas_trabajadas.append(horas)\n",
    "\n",
    "    def detalle_horas(self, empleado: Empleado) -> str:\n",
    "        total_horas = sum(self.horas_trabajadas)\n",
    "        return f\"{empleado}, Horas trabajadas: {total_horas}, Detalle de horas: {self.horas_trabajadas}\"\n",
    "\n",
    "\n",
    "class CalculoPago:\n",
    "    @staticmethod\n",
    "    def calcula_pago(salario_hora: int, horas_trabajadas: int) -> int:\n",
    "        return salario_hora * horas_trabajadas\n",
    "\n",
    "\n",
    "class DBManager:\n",
    "    @staticmethod\n",
    "    def subir_dbs(data: str) -> None:\n",
    "        # Código para guardar el data en una base de datos\n",
    "        pass\n",
    "\n",
    "\n",
    "\n",
    "\n"
   ]
  },
  {
   "cell_type": "code",
   "execution_count": 15,
   "metadata": {},
   "outputs": [
    {
     "name": "stdout",
     "output_type": "stream",
     "text": [
      "Empleado: Juan Pérez, Cargo: empacador, Horas trabajadas: 15, Detalle de horas: [8, 7]\n",
      "Pago total: 120000\n"
     ]
    }
   ],
   "source": [
    "empleado :Empleado = Empleado(\"Juan Pérez\", \"empacador\", 8000)\n",
    "reporte_horas = ReporteHoras()\n",
    "reporte_horas.reportar_horas(8)\n",
    "reporte_horas.reportar_horas(7)\n",
    "\n",
    "total_horas = sum(reporte_horas.horas_trabajadas)\n",
    "pago = CalculoPago.calcula_pago(empleado.obtener_salario_hora(), total_horas)\n",
    "\n",
    "print(reporte_horas.detalle_horas(empleado))\n",
    "print(f\"Pago total: {pago}\")"
   ]
  }
 ],
 "metadata": {
  "kernelspec": {
   "display_name": "Python 3 (ipykernel)",
   "language": "python",
   "name": "python3"
  },
  "language_info": {
   "codemirror_mode": {
    "name": "ipython",
    "version": 3
   },
   "file_extension": ".py",
   "mimetype": "text/x-python",
   "name": "python",
   "nbconvert_exporter": "python",
   "pygments_lexer": "ipython3",
   "version": "3.12.1"
  }
 },
 "nbformat": 4,
 "nbformat_minor": 2
}
